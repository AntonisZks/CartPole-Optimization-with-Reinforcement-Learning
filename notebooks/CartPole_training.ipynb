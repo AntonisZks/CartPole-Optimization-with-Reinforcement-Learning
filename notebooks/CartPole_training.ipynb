{
 "cells": [
  {
   "cell_type": "markdown",
   "id": "5f42a073",
   "metadata": {},
   "source": [
    "<div align=\"center\">\n",
    "    <h1><b>Εργασία Ενισχυτικής Μηχανικής Μάθησης</b></h1>\n",
    "</div>"
   ]
  },
  {
   "cell_type": "markdown",
   "id": "3eb7f92c",
   "metadata": {},
   "source": [
    "## **Εισαγωγικά**\n",
    "Αυτό το notebook αποτελεί κομμάτι μιας εργασίας στο μάθημα **'Ενισχυτική Μηχανική Μάθηση & Στοχαστικά Παίγνια'** του τμήματος **[Πληροφορικής και Τηλεπικοινωνιών](https://www.di.uoa.gr/)** του **Ε.Κ.Π.Α.**"
   ]
  },
  {
   "cell_type": "markdown",
   "id": "08e8e208-1449-4fd6-872c-a0415fb161e8",
   "metadata": {},
   "source": [
    "### **Σκοπός**\n",
    "Σκοπός της εργασίας είναι **πειραματιστούμε** με διάφορους **αλγορίθμους μηχανικής μάθησης**, έτσι ώστε να εκπαιδεύσουμε ένα μοντέλο πάνω σε ένα συγκεκριμένο **περιβάλλον** του **[Open-AI Gym ή Gymnasium](https://www.gymlibrary.dev/index.html)**"
   ]
  },
  {
   "cell_type": "markdown",
   "id": "fc50fe1c-af3a-440b-9570-e43f14bbc431",
   "metadata": {},
   "source": [
    "### **Μέλη Εργασίας**\n",
    "Τα μέλη που αποτελούν αυτήν την εργασία είναι τα ακόλουθα:\n",
    "\n",
    "| Όνομα | Επώνυμο | Α.Μ. | Email |\n",
    "| :---: | :---: | :---: | :---: |\n",
    "| Αντώνης | Ζήκας | 1115202100038 | sdi2100038@di.uoa.gr |\n",
    "| Παναγιώτης | Παπαποστόλου | 1115202100142 | sdi2100142@di.uoa.gr |\n"
   ]
  },
  {
   "cell_type": "markdown",
   "id": "8dd947b7",
   "metadata": {},
   "source": [
    "## **Επιλογή και Ανάλυση Περιβάλλοντος**\n",
    "Σε αυτήν την εργασία επιλέξαμε να ασχοληθούμε με το περιβάλλον **[CartPole-v1](https://www.gymlibrary.dev/environments/classic_control/cart_pole/)** το οποίο ανήκει στην κατηγορία **[Clasic Control](https://www.gymlibrary.dev/environments/classic_control/)**. \n",
    "\n",
    "<div align=\"center\">\n",
    "<img src=\"../assets/imgs/cart-pole-diagram.png\" width=\"500px\">    \n",
    "</div>\n",
    "\n",
    "Ας αναλύσουμε αυτό το περιβάλλον."
   ]
  },
  {
   "cell_type": "markdown",
   "id": "cf64247f",
   "metadata": {},
   "source": [
    "### **Action Space**:\n",
    "Για το συγκεκριμένο περιβάλλον υπάρχουν **δύο ενέργειες** (actions) που μπορούν να γίνουν. Συγκεκριμένα το **καροτσάκι** (cart) μπορεί να μετακινηθεί είτε **αριστερά** είτε **δεξιά**. Οι ενέργειες αυτές αναπαρίστανται με **0** και **1** αντίστοιχα και περιγράφονται στον παρακάτω πίνακα:\n",
    "\n",
    "| Number | Action |\n",
    "| :---: | :---: |\n",
    "| 0 | Μετακίνηση προς τα αριστερά |\n",
    "| 1 | Μετακίνηση προς τα δεξιά |\n",
    "\n",
    "Επομένως το **action** του συγκεκριμένου περιβάλλοντος είναι ένα `ndarray` διαστάσεων `(1,)` και μπορεί να πάρει δύο τιμές `{1, 0}`."
   ]
  },
  {
   "cell_type": "markdown",
   "id": "9ff4bdd3",
   "metadata": {},
   "source": [
    "### **Observation Space**:\n",
    "Το **observation space** για το συγκεκριμένο περιβάλλον είναι μία συλλογή από **4** τιμές.\n",
    "1. Την **θέση** του καροτσιού **(Cart Position)**\n",
    "2. Την **ταχύτητα** του καροτσιού **(Cart Velocity)**\n",
    "3. Την **γωνία** που σχηματίζει το κοντάρι με τον κάθετο άξονα **(Pole Angle)**\n",
    "4. την **ταχύτητα** του κονταριού καθώς πέφτει **(Pole Angular Velocity)**\n",
    "\n",
    "Αυτές οι τιμές αποθηκέυονται μέσα σε ένα `ndarray` διαστάσεων `(4,)` και κάθε τιμή έχει ορισμένα συγκεκριμένα όρια τα οποία περιγράφονται παρακάτω:\n",
    "\n",
    "| Array index | Observation | Min Value | Max Value |\n",
    "| :---: | :---: | :---: | :---: |\n",
    "| 0 | Cart Position | $-4.8$ | $4.8$ |\n",
    "| 1 | Cart Velocity | $-\\infty$ | $+\\infty$ |\n",
    "| 2 | Pole Angle | ~ $0.418$ rad (-$24^{\\circ}$) | ~ $0.418$ rad ($24^{\\circ}$) |\n",
    "| 3 | Pole Angular Velocity | $-\\infty$ | $+\\infty$ |\n"
   ]
  },
  {
   "cell_type": "markdown",
   "id": "2c5e12a6",
   "metadata": {},
   "source": [
    "### **Reward**:\n",
    "Για κάθε βήμα στην εκπαίδευση του μοντέλου η **αμοιβή** (reward) που λαμβάνει ο επιλεγμένος **πράκτορας** (agent) είναι `+1` συμπεριλαμβανομένου και του **βήματος τερματισμού**. Το **κατώφλι** (threshold) των αμοιβών στο συγκεκριμένο περιβάλλον είναι **475**."
   ]
  },
  {
   "cell_type": "markdown",
   "id": "d93fb0f7",
   "metadata": {},
   "source": [
    "## **Φόρτωση Περιβάλλοντος στην Python**"
   ]
  },
  {
   "cell_type": "code",
   "execution_count": 43,
   "id": "25fef1eb",
   "metadata": {},
   "outputs": [
    {
     "name": "stdout",
     "output_type": "stream",
     "text": [
      "Observations: 4, Actions: 2\n"
     ]
    }
   ],
   "source": [
    "import gymnasium as gym\n",
    "\n",
    "env = gym.make('CartPole-v1')\n",
    "observations = env.observation_space.shape[0]\n",
    "actions = env.action_space.n\n",
    "\n",
    "print(f\"Observations: {observations}, Actions: {actions}\")\n",
    "env.close()"
   ]
  },
  {
   "cell_type": "markdown",
   "id": "54cb9caf-f7bb-405c-810a-4d2b18a780d7",
   "metadata": {},
   "source": [
    "Όπως παρατηρούμε από την παραπάνω εκτέλεση του κώδικα, τα **observations** και τα **actions** είναι πράγματι **4** και **2** αντίστοιχα. Ας επιχειρήσουμε να τρέξουμε αυτό το περιβάλλον **χωρίς** κάποιο εκπαιδευμένο μοντέλο και ας παρατηρήσουμε τα αποτελέσματα."
   ]
  },
  {
   "cell_type": "code",
   "execution_count": 44,
   "id": "973c0961-8cfa-4223-9207-e780d12bb616",
   "metadata": {},
   "outputs": [],
   "source": [
    "epochs = 200\n",
    "epochs_scores = []\n",
    "\n",
    "env = gym.make('CartPole-v1')\n",
    "for epoch in range(1, epochs+1):\n",
    "    env.reset()\n",
    "    done = False\n",
    "    score = 0\n",
    "    while not done:\n",
    "        action = env.action_space.sample() # Chose a random action from 0 and 1\n",
    "        observation, reward, terminated, truncated, _ = env.step(action)\n",
    "        score += reward\n",
    "        if terminated or truncated:\n",
    "            observation, _ = env.reset()\n",
    "            done = True\n",
    "    \n",
    "    epochs_scores.append(score)\n",
    "\n",
    "env.close()"
   ]
  },
  {
   "cell_type": "markdown",
   "id": "f0096958-1a9b-485f-8345-bd951783b442",
   "metadata": {},
   "source": [
    "Ας οπτικοποιήσουμε το συνολικό **score** που έπιασε το περιβάλλον μας για κάθε **εποχή** (epoch)."
   ]
  },
  {
   "cell_type": "code",
   "execution_count": 45,
   "id": "b4bec7df-02fc-4816-bbc1-3cc29f801283",
   "metadata": {},
   "outputs": [
    {
     "data": {
      "text/plain": [
       "<Figure size 640x480 with 0 Axes>"
      ]
     },
     "metadata": {},
     "output_type": "display_data"
    },
    {
     "data": {
      "image/png": "[encoded data removed]",
      "text/plain": [
       "<Figure size 1300x500 with 1 Axes>"
      ]
     },
     "metadata": {},
     "output_type": "display_data"
    }
   ],
   "source": [
    "from matplotlib import pyplot as plt\n",
    "\n",
    "plt.figure()\n",
    "plt.figure(figsize=(13, 5))\n",
    "plt.plot(epochs_scores, color='#37A2FF')\n",
    "plt.ylim(0, 475)\n",
    "plt.title(\"Environement Random Action testing: Total Score per Epoch\")\n",
    "plt.xlabel(\"Epochs\")\n",
    "plt.ylabel(\"Score\")\n",
    "plt.grid(color='#DADADA')\n",
    "plt.show()"
   ]
  },
  {
   "cell_type": "markdown",
   "id": "614d0cb4-c889-408b-b40b-2c351ecbfc13",
   "metadata": {},
   "source": [
    "Από το παραπάνω διάγραμμα παρατηρούμε πως το συνολικό **score** που πιάνει το περιβάλλον είναι πολύ χαμηλό. Στόχος μας λοιπόν είναι να **εκπαιδεύσουμε** ένα μοντέλο, έτσι ώστε να καταφέρουμε να αυξήσουμε το **score** μέχρι και το αντίστοιχο **threashold** του περιβάλλοντος, το οποίο είναι **475**."
   ]
  },
  {
   "cell_type": "markdown",
   "id": "a2f32d91-e920-4463-b9c5-691dffa27607",
   "metadata": {},
   "source": [
    "## **Υλοποίηση του αλγορίθμου DQN (Deep Q-Network)**\n",
    "Θα ξεκινήσουμε υλοποιώντας αλγόριθμο **[DQN](https://medium.com/@samina.amin/deep-q-learning-dqn-71c109586bae)** ο οποίος θα χρησιμοποιηθεί για την εκπαίδευση του μοντέλου μας. Ο αλγόριθμος αυτός απαιτεί τη χρήση ενός **νευρωνικού δικτύου** (neural network) όπου για την κατασκευή του θα χρησιμοποιήσουμε το πακέτο **[PyTorch](https://pytorch.org/)**.\n",
    "\n",
    "<div align=\"center\">\n",
    "    <img src=\"https://miro.medium.com/v2/resize:fit:2400/format:webp/1*aqNgmfyBIStLrf9k7d9cng.jpeg\" width=\"500px\">\n",
    "</div>"
   ]
  },
  {
   "cell_type": "markdown",
   "id": "8bec2e1f-2066-41e2-87f2-029025db5aa7",
   "metadata": {},
   "source": [
    "### **Κατασκευή Νευρωνικού Δικτύου**\n",
    "Ας αρχίσουμε με τη κατασκευή του **νευρωνικού δικτύου**. Η **αρχιτεκτονική** του δικτύου θα είναι η ακόλουθη:\n",
    "1. **Input Layer** with **4 nodes** (number of observations)\n",
    "2. **Hidden Layer 1** with **24 nodes**\n",
    "3. **Hidden Layer 2** with **24 nodes**\n",
    "4. **Ouput Layer** with **2 nodes** (number of actions)"
   ]
  },
  {
   "cell_type": "code",
   "execution_count": 46,
   "id": "49403f78-4d72-452f-a439-d0eb820257fc",
   "metadata": {},
   "outputs": [],
   "source": [
    "import torch\n",
    "import torch.nn as nn\n",
    "import torch.nn.functional as F\n",
    "\n",
    "class DQN(nn.Module):\n",
    "    def __init__(self, input_dim, output_dim):\n",
    "        super(DQN, self).__init__()\n",
    "        self.fc1 = nn.Linear(input_dim, 128)\n",
    "        self.fc2 = nn.Linear(128, 128)\n",
    "        self.fc3 = nn.Linear(128, output_dim)\n",
    "\n",
    "    def forward(self, observation):\n",
    "        x = F.relu(self.fc1(observation))\n",
    "        x = F.relu(self.fc2(x))\n",
    "        actions = self.fc3(x)\n",
    "\n",
    "        return actions\n"
   ]
  },
  {
   "cell_type": "markdown",
   "id": "1f7d54e9",
   "metadata": {},
   "source": [
    "### Σύνδεση με συσκευή CPU ή GPU\n",
    "Θα φροντίσουμε επίσης το νευρωνικό μας δίκτυο να τρέξει σε συσκευή **GPU** (εάν αυτό προφανώς το επιτρέπει το μηχάνημα στο οποίο βρισκόμαστε) για **καλύτερη αποδοτικότητα**. Γι' αυτο το λόγο θα συνδέσουμε το pytorch σε συσκευή **CUDA** εάν είναι διαθέσιμη αλλιώς σε **CPU**."
   ]
  },
  {
   "cell_type": "code",
   "execution_count": 47,
   "id": "1e467d69-eba0-4cdd-97eb-0794f9130b6b",
   "metadata": {},
   "outputs": [
    {
     "name": "stdout",
     "output_type": "stream",
     "text": [
      "Pytorch connected to cuda\n"
     ]
    }
   ],
   "source": [
    "device = torch.device('cuda' if torch.cuda.is_available() else 'cpu')\n",
    "print(f'Pytorch connected to {device}')"
   ]
  },
  {
   "cell_type": "markdown",
   "id": "3978450c",
   "metadata": {},
   "source": [
    "### Κατασκευή Replay Buffer\n",
    "Στη συνέχεια θα κατασκευάσουμε τη δομή του **ReplayBuffer**, η οποία θα λειτουργεί ως **μνήμη** στην εκπαίδευση του μοντέλου. "
   ]
  },
  {
   "cell_type": "code",
   "execution_count": 48,
   "id": "bd9a0153",
   "metadata": {},
   "outputs": [],
   "source": [
    "import numpy as np\n",
    "from collections import deque\n",
    "\n",
    "# Experience Replay Buffer\n",
    "class ReplayBuffer:\n",
    "    def __init__(self, capacity):\n",
    "        self.buffer = deque(maxlen=capacity)\n",
    "\n",
    "    def push(self, state, action, reward, next_state, done):\n",
    "        self.buffer.append((state, action, reward, next_state, done))\n",
    "\n",
    "    def sample(self, batch_size):\n",
    "        batch = random.sample(self.buffer, batch_size)\n",
    "        states, actions, rewards, next_states, dones = zip(*batch)\n",
    "        return (\n",
    "            torch.tensor(np.array(states), dtype=torch.float32).to(device),\n",
    "            torch.tensor(np.array(actions), dtype=torch.long).to(device),\n",
    "            torch.tensor(np.array(rewards), dtype=torch.float32).to(device),\n",
    "            torch.tensor(np.array(next_states), dtype=torch.float32).to(device),\n",
    "            torch.tensor(np.array(dones), dtype=torch.float32).to(device),\n",
    "        )\n",
    "\n",
    "    def __len__(self):\n",
    "        return len(self.buffer)"
   ]
  },
  {
   "cell_type": "markdown",
   "id": "07ef649a",
   "metadata": {},
   "source": [
    "### Ορισμός Υπερπαραμέτρων (Hyperparameters)\n",
    "Για την εκπαίδευση του μοντέλου μας χρειαζόμαστε ορισμένες **υπερπαραμέτρους** που θα επηρεάσουν την **εκπαίδευση** του νευρωνικού δικτύου. Μερικές από αυτές τις παραμέτρους είναι το $\\gamma$, το $\\epsilon$, το **learning rate** κλπ."
   ]
  },
  {
   "cell_type": "code",
   "execution_count": 49,
   "id": "38bb1c7b",
   "metadata": {},
   "outputs": [],
   "source": [
    "# Hyperparameters\n",
    "GAMMA = 0.99          # Discount factor\n",
    "LR = 1e-3             # Learning rate\n",
    "BATCH_SIZE = 64       # Minibatch size\n",
    "MEMORY_SIZE = 10000   # Replay buffer size\n",
    "EPSILON_START = 1.0   # Starting exploration probability\n",
    "EPSILON_END = 0.01    # Minimum exploration probability\n",
    "EPSILON_DECAY = 0.995 # Epsilon decay rate\n",
    "TARGET_UPDATE = 10    # How often to update the target network"
   ]
  },
  {
   "cell_type": "markdown",
   "id": "59b95940",
   "metadata": {},
   "source": [
    "### Δημιουργία Νευρωνικών Δικτύων\n",
    "Στη συνέχεια θα ορίσουμε δύο νευρωνικά δίκτυα όπου το ένα θα παίζει το ρόλο της **πολιτικής** που θα χρησιμοποιήσουμε στη διαδικασία εκπαίδευσης, και το άλλο θα παίζει το ρόλο του **στόχου**."
   ]
  },
  {
   "cell_type": "code",
   "execution_count": 50,
   "id": "4913e494",
   "metadata": {},
   "outputs": [
    {
     "data": {
      "text/plain": [
       "DQN(\n",
       "  (fc1): Linear(in_features=4, out_features=128, bias=True)\n",
       "  (fc2): Linear(in_features=128, out_features=128, bias=True)\n",
       "  (fc3): Linear(in_features=128, out_features=2, bias=True)\n",
       ")"
      ]
     },
     "execution_count": 50,
     "metadata": {},
     "output_type": "execute_result"
    }
   ],
   "source": [
    "# Initialize networks, optimizer, and replay buffer\n",
    "policy_net = DQN(observations, actions).to(device)\n",
    "target_net = DQN(observations, actions).to(device)\n",
    "target_net.load_state_dict(policy_net.state_dict())\n",
    "\n",
    "target_net.eval()"
   ]
  },
  {
   "cell_type": "markdown",
   "id": "ec8b9fcf",
   "metadata": {},
   "source": [
    "### Δημιουργία του Optimizer και του Replay Buffer\n",
    "Θα δημιουργήσουμε επίσης τον **optimizer** που θα χρησιμοποιήσουμε στην εκπαίδευση του μοντέλου και το **replay buffer** που θα παίζει το ρόλο της μνήμης. Για τον optimizer θα χρησιμοποιήσουμε τον **Adam**."
   ]
  },
  {
   "cell_type": "code",
   "execution_count": 51,
   "id": "cc1636a4",
   "metadata": {},
   "outputs": [],
   "source": [
    "import torch.optim as optim\n",
    "\n",
    "optimizer = optim.Adam(policy_net.parameters(), lr=LR)\n",
    "replay_buffer = ReplayBuffer(MEMORY_SIZE)"
   ]
  },
  {
   "cell_type": "markdown",
   "id": "30aff2c2",
   "metadata": {},
   "source": [
    "### Ορισμός πολιτικής E-Greedy\n",
    "Θα πρέπει επίσης να ορίσουμε την $\\epsilon$ greedy πολιτική του αλγορίθμου μας που θα χρησιμοποιεί τις **υπερπαραμέτρους** που ορίσαμε παραπάνω για το $\\epsilon$. Με αυτόν τον τρόπο κάθε φορά θα επιλέγεται μία **ενέργεια** του περιβάλλοντος είτε **τυχαία** είτε μέσω του **νευρωνικού** που ορίσαμε."
   ]
  },
  {
   "cell_type": "code",
   "execution_count": 52,
   "id": "f17c491c",
   "metadata": {},
   "outputs": [],
   "source": [
    "# Epsilon-greedy policy\n",
    "def select_action(state):\n",
    "    global epsilon\n",
    "    if random.random() < epsilon:\n",
    "        return env.action_space.sample()  # Explore\n",
    "    else:\n",
    "        with torch.no_grad():\n",
    "            state = torch.tensor(state, dtype=torch.float32).unsqueeze(0).to(device)\n",
    "            return policy_net(state).argmax(dim=1).item()  # Exploit"
   ]
  },
  {
   "cell_type": "markdown",
   "id": "114bafa3",
   "metadata": {},
   "source": [
    "### Διαδικασία Εκπαίδευσης\n",
    "Ήρθε λοιπόν η ώρα να ορίσουμε τη διαδικασία εκπαίδευσης του μοντέλου μας."
   ]
  },
  {
   "cell_type": "code",
   "execution_count": 53,
   "id": "6181ff5c",
   "metadata": {},
   "outputs": [],
   "source": [
    "import random\n",
    "\n",
    "total_rewards = []\n",
    "max_reward = -1\n",
    "epsilon = EPSILON_START\n",
    "\n",
    "# Training loop\n",
    "def train_model(epochs):\n",
    "    global epsilon\n",
    "    global max_reward\n",
    "    \n",
    "    for episode in range(epochs):\n",
    "        state, _ = env.reset()\n",
    "        total_reward = 0\n",
    "        done = False\n",
    "\n",
    "        while not done:\n",
    "            # Select action\n",
    "            action = select_action(state)\n",
    "\n",
    "            # Step in the environment\n",
    "            next_state, reward, done, _, _ = env.step(action)\n",
    "            total_reward += reward\n",
    "\n",
    "            # Store transition in replay buffer\n",
    "            replay_buffer.push(state, action, reward, next_state, done)\n",
    "            state = next_state\n",
    "\n",
    "            # Sample from replay buffer and train\n",
    "            if len(replay_buffer) > BATCH_SIZE:\n",
    "                states, actions, rewards, next_states, dones = replay_buffer.sample(BATCH_SIZE)\n",
    "                states, actions, rewards, next_states, dones = (\n",
    "                    states.to(device), actions.to(device), rewards.to(device),\n",
    "                    next_states.to(device), dones.to(device)\n",
    "                )\n",
    "\n",
    "                # Compute Q-values and target Q-values\n",
    "                q_values = policy_net(states).gather(1, actions.unsqueeze(1)).squeeze(1)\n",
    "                with torch.no_grad():\n",
    "                    next_q_values = target_net(next_states).max(dim=1)[0]\n",
    "                    target_q_values = rewards + GAMMA * next_q_values * (1 - dones)\n",
    "\n",
    "                # Compute loss and optimize\n",
    "                loss = nn.MSELoss()(q_values, target_q_values)\n",
    "                optimizer.zero_grad()\n",
    "                loss.backward()\n",
    "                optimizer.step()\n",
    "\n",
    "        # Update epsilon\n",
    "        epsilon = max(EPSILON_END, epsilon * EPSILON_DECAY)\n",
    "\n",
    "        # Update target network\n",
    "        if episode % TARGET_UPDATE == 0:\n",
    "            target_net.load_state_dict(policy_net.state_dict())\n",
    "\n",
    "        total_rewards.append(total_reward)\n",
    "        if (total_reward > max_reward):\n",
    "            max_reward = total_reward\n",
    "            torch.save(policy_net.state_dict(), \"best_network.pth\")\n",
    "\n",
    "        print(f\"Episode {episode}, Total Reward: {total_reward}\")\n"
   ]
  },
  {
   "cell_type": "markdown",
   "id": "e0a9ead4",
   "metadata": {},
   "source": [
    "### Εκπαίδευση Μοντέλου\n",
    "Ας δοκιμάσουμε τη μέθοδό μας εκπαιδεύοντας ένα μοντέλο για το συγκεκριμένο περιβάλλον."
   ]
  },
  {
   "cell_type": "code",
   "execution_count": 54,
   "id": "e4e2d4be",
   "metadata": {},
   "outputs": [
    {
     "name": "stdout",
     "output_type": "stream",
     "text": [
      "Episode 0, Total Reward: 16.0\n",
      "Episode 1, Total Reward: 36.0\n",
      "Episode 2, Total Reward: 21.0\n",
      "Episode 3, Total Reward: 14.0\n",
      "Episode 4, Total Reward: 38.0\n",
      "Episode 5, Total Reward: 26.0\n",
      "Episode 6, Total Reward: 31.0\n",
      "Episode 7, Total Reward: 18.0\n",
      "Episode 8, Total Reward: 15.0\n",
      "Episode 9, Total Reward: 17.0\n",
      "Episode 10, Total Reward: 17.0\n",
      "Episode 11, Total Reward: 12.0\n",
      "Episode 12, Total Reward: 11.0\n",
      "Episode 13, Total Reward: 13.0\n",
      "Episode 14, Total Reward: 20.0\n",
      "Episode 15, Total Reward: 24.0\n",
      "Episode 16, Total Reward: 21.0\n",
      "Episode 17, Total Reward: 9.0\n",
      "Episode 18, Total Reward: 16.0\n",
      "Episode 19, Total Reward: 11.0\n",
      "Episode 20, Total Reward: 23.0\n",
      "Episode 21, Total Reward: 22.0\n",
      "Episode 22, Total Reward: 18.0\n",
      "Episode 23, Total Reward: 12.0\n",
      "Episode 24, Total Reward: 59.0\n",
      "Episode 25, Total Reward: 39.0\n",
      "Episode 26, Total Reward: 37.0\n",
      "Episode 27, Total Reward: 11.0\n",
      "Episode 28, Total Reward: 21.0\n",
      "Episode 29, Total Reward: 17.0\n",
      "Episode 30, Total Reward: 19.0\n",
      "Episode 31, Total Reward: 23.0\n",
      "Episode 32, Total Reward: 10.0\n",
      "Episode 33, Total Reward: 56.0\n",
      "Episode 34, Total Reward: 15.0\n",
      "Episode 35, Total Reward: 48.0\n",
      "Episode 36, Total Reward: 32.0\n",
      "Episode 37, Total Reward: 9.0\n",
      "Episode 38, Total Reward: 42.0\n",
      "Episode 39, Total Reward: 45.0\n",
      "Episode 40, Total Reward: 28.0\n",
      "Episode 41, Total Reward: 12.0\n",
      "Episode 42, Total Reward: 22.0\n",
      "Episode 43, Total Reward: 15.0\n",
      "Episode 44, Total Reward: 20.0\n",
      "Episode 45, Total Reward: 21.0\n",
      "Episode 46, Total Reward: 34.0\n",
      "Episode 47, Total Reward: 25.0\n",
      "Episode 48, Total Reward: 37.0\n",
      "Episode 49, Total Reward: 21.0\n",
      "Episode 50, Total Reward: 50.0\n",
      "Episode 51, Total Reward: 10.0\n",
      "Episode 52, Total Reward: 31.0\n",
      "Episode 53, Total Reward: 39.0\n",
      "Episode 54, Total Reward: 26.0\n",
      "Episode 55, Total Reward: 48.0\n",
      "Episode 56, Total Reward: 17.0\n",
      "Episode 57, Total Reward: 25.0\n",
      "Episode 58, Total Reward: 102.0\n",
      "Episode 59, Total Reward: 39.0\n",
      "Episode 60, Total Reward: 14.0\n",
      "Episode 61, Total Reward: 29.0\n",
      "Episode 62, Total Reward: 37.0\n",
      "Episode 63, Total Reward: 45.0\n",
      "Episode 64, Total Reward: 13.0\n",
      "Episode 65, Total Reward: 29.0\n",
      "Episode 66, Total Reward: 16.0\n",
      "Episode 67, Total Reward: 13.0\n",
      "Episode 68, Total Reward: 29.0\n",
      "Episode 69, Total Reward: 61.0\n",
      "Episode 70, Total Reward: 16.0\n",
      "Episode 71, Total Reward: 94.0\n",
      "Episode 72, Total Reward: 40.0\n",
      "Episode 73, Total Reward: 44.0\n",
      "Episode 74, Total Reward: 25.0\n",
      "Episode 75, Total Reward: 37.0\n",
      "Episode 76, Total Reward: 81.0\n",
      "Episode 77, Total Reward: 48.0\n",
      "Episode 78, Total Reward: 17.0\n",
      "Episode 79, Total Reward: 38.0\n",
      "Episode 80, Total Reward: 97.0\n",
      "Episode 81, Total Reward: 31.0\n",
      "Episode 82, Total Reward: 25.0\n",
      "Episode 83, Total Reward: 40.0\n",
      "Episode 84, Total Reward: 53.0\n",
      "Episode 85, Total Reward: 58.0\n",
      "Episode 86, Total Reward: 57.0\n",
      "Episode 87, Total Reward: 68.0\n",
      "Episode 88, Total Reward: 26.0\n",
      "Episode 89, Total Reward: 33.0\n",
      "Episode 90, Total Reward: 53.0\n",
      "Episode 91, Total Reward: 37.0\n",
      "Episode 92, Total Reward: 107.0\n",
      "Episode 93, Total Reward: 34.0\n",
      "Episode 94, Total Reward: 89.0\n",
      "Episode 95, Total Reward: 72.0\n",
      "Episode 96, Total Reward: 115.0\n",
      "Episode 97, Total Reward: 210.0\n",
      "Episode 98, Total Reward: 37.0\n",
      "Episode 99, Total Reward: 27.0\n",
      "Episode 100, Total Reward: 36.0\n",
      "Episode 101, Total Reward: 33.0\n",
      "Episode 102, Total Reward: 63.0\n",
      "Episode 103, Total Reward: 104.0\n",
      "Episode 104, Total Reward: 55.0\n",
      "Episode 105, Total Reward: 228.0\n",
      "Episode 106, Total Reward: 49.0\n",
      "Episode 107, Total Reward: 27.0\n",
      "Episode 108, Total Reward: 24.0\n",
      "Episode 109, Total Reward: 53.0\n",
      "Episode 110, Total Reward: 103.0\n",
      "Episode 111, Total Reward: 81.0\n",
      "Episode 112, Total Reward: 44.0\n",
      "Episode 113, Total Reward: 189.0\n",
      "Episode 114, Total Reward: 92.0\n",
      "Episode 115, Total Reward: 32.0\n",
      "Episode 116, Total Reward: 220.0\n",
      "Episode 117, Total Reward: 119.0\n",
      "Episode 118, Total Reward: 32.0\n",
      "Episode 119, Total Reward: 75.0\n",
      "Episode 120, Total Reward: 134.0\n",
      "Episode 121, Total Reward: 23.0\n",
      "Episode 122, Total Reward: 39.0\n",
      "Episode 123, Total Reward: 12.0\n",
      "Episode 124, Total Reward: 124.0\n",
      "Episode 125, Total Reward: 195.0\n",
      "Episode 126, Total Reward: 143.0\n",
      "Episode 127, Total Reward: 58.0\n",
      "Episode 128, Total Reward: 15.0\n",
      "Episode 129, Total Reward: 104.0\n",
      "Episode 130, Total Reward: 70.0\n",
      "Episode 131, Total Reward: 160.0\n",
      "Episode 132, Total Reward: 21.0\n",
      "Episode 133, Total Reward: 68.0\n",
      "Episode 134, Total Reward: 65.0\n",
      "Episode 135, Total Reward: 231.0\n",
      "Episode 136, Total Reward: 34.0\n",
      "Episode 137, Total Reward: 123.0\n",
      "Episode 138, Total Reward: 76.0\n",
      "Episode 139, Total Reward: 89.0\n",
      "Episode 140, Total Reward: 97.0\n",
      "Episode 141, Total Reward: 105.0\n",
      "Episode 142, Total Reward: 110.0\n",
      "Episode 143, Total Reward: 33.0\n",
      "Episode 144, Total Reward: 36.0\n",
      "Episode 145, Total Reward: 198.0\n",
      "Episode 146, Total Reward: 16.0\n",
      "Episode 147, Total Reward: 120.0\n",
      "Episode 148, Total Reward: 60.0\n",
      "Episode 149, Total Reward: 144.0\n",
      "Episode 150, Total Reward: 230.0\n",
      "Episode 151, Total Reward: 81.0\n",
      "Episode 152, Total Reward: 42.0\n",
      "Episode 153, Total Reward: 26.0\n",
      "Episode 154, Total Reward: 40.0\n",
      "Episode 155, Total Reward: 132.0\n",
      "Episode 156, Total Reward: 39.0\n",
      "Episode 157, Total Reward: 152.0\n",
      "Episode 158, Total Reward: 170.0\n",
      "Episode 159, Total Reward: 136.0\n",
      "Episode 160, Total Reward: 92.0\n",
      "Episode 161, Total Reward: 127.0\n",
      "Episode 162, Total Reward: 26.0\n",
      "Episode 163, Total Reward: 62.0\n",
      "Episode 164, Total Reward: 30.0\n",
      "Episode 165, Total Reward: 103.0\n",
      "Episode 166, Total Reward: 15.0\n",
      "Episode 167, Total Reward: 33.0\n",
      "Episode 168, Total Reward: 21.0\n",
      "Episode 169, Total Reward: 48.0\n",
      "Episode 170, Total Reward: 18.0\n",
      "Episode 171, Total Reward: 16.0\n",
      "Episode 172, Total Reward: 13.0\n",
      "Episode 173, Total Reward: 110.0\n",
      "Episode 174, Total Reward: 104.0\n",
      "Episode 175, Total Reward: 68.0\n",
      "Episode 176, Total Reward: 176.0\n",
      "Episode 177, Total Reward: 78.0\n",
      "Episode 178, Total Reward: 29.0\n",
      "Episode 179, Total Reward: 111.0\n",
      "Episode 180, Total Reward: 130.0\n",
      "Episode 181, Total Reward: 87.0\n",
      "Episode 182, Total Reward: 26.0\n",
      "Episode 183, Total Reward: 26.0\n",
      "Episode 184, Total Reward: 17.0\n",
      "Episode 185, Total Reward: 19.0\n",
      "Episode 186, Total Reward: 168.0\n",
      "Episode 187, Total Reward: 40.0\n",
      "Episode 188, Total Reward: 112.0\n",
      "Episode 189, Total Reward: 27.0\n",
      "Episode 190, Total Reward: 76.0\n",
      "Episode 191, Total Reward: 20.0\n",
      "Episode 192, Total Reward: 48.0\n",
      "Episode 193, Total Reward: 15.0\n",
      "Episode 194, Total Reward: 81.0\n",
      "Episode 195, Total Reward: 299.0\n",
      "Episode 196, Total Reward: 125.0\n",
      "Episode 197, Total Reward: 128.0\n",
      "Episode 198, Total Reward: 21.0\n",
      "Episode 199, Total Reward: 13.0\n"
     ]
    }
   ],
   "source": [
    "env = gym.make('CartPole-v1')\n",
    "train_model(200)\n",
    "env.close()"
   ]
  },
  {
   "cell_type": "markdown",
   "id": "177a2dd7",
   "metadata": {},
   "source": [
    "Ας δούμε τα αποτελέσματα της εκπαίδευσης."
   ]
  },
  {
   "cell_type": "code",
   "execution_count": 55,
   "id": "35745e89",
   "metadata": {
    "hide_input": false
   },
   "outputs": [
    {
     "data": {
      "text/plain": [
       "<Figure size 640x480 with 0 Axes>"
      ]
     },
     "metadata": {},
     "output_type": "display_data"
    },
    {
     "data": {
      "image/png": "[encoded data removed]",
      "text/plain": [
       "<Figure size 1300x500 with 1 Axes>"
      ]
     },
     "metadata": {},
     "output_type": "display_data"
    }
   ],
   "source": [
    "from matplotlib import pyplot as plt\n",
    "\n",
    "plt.figure()\n",
    "plt.figure(figsize=(13, 5))\n",
    "plt.plot(total_rewards, color='#37A2FF')\n",
    "plt.ylim(0, max(475, max(total_rewards)))\n",
    "plt.title(\"Environement Random Action testing: Total Score per Epoch\")\n",
    "plt.xlabel(\"Epochs\")\n",
    "plt.ylabel(\"Score\")\n",
    "plt.grid(color='#DADADA')\n",
    "plt.show()"
   ]
  },
  {
   "cell_type": "code",
   "execution_count": 56,
   "id": "87b62baa",
   "metadata": {},
   "outputs": [
    {
     "name": "stdout",
     "output_type": "stream",
     "text": [
      "299.0\n"
     ]
    }
   ],
   "source": [
    "print(max(total_rewards))"
   ]
  },
  {
   "cell_type": "code",
   "execution_count": 57,
   "id": "6640e6fd",
   "metadata": {},
   "outputs": [
    {
     "name": "stdout",
     "output_type": "stream",
     "text": [
      "Episode 1: Total Reward = 173.0\n",
      "Episode 2: Total Reward = 228.0\n",
      "Episode 3: Total Reward = 192.0\n",
      "Episode 4: Total Reward = 104.0\n",
      "Episode 5: Total Reward = 213.0\n",
      "Episode 6: Total Reward = 168.0\n",
      "Episode 7: Total Reward = 112.0\n",
      "Episode 8: Total Reward = 257.0\n",
      "Episode 9: Total Reward = 114.0\n",
      "Episode 10: Total Reward = 103.0\n"
     ]
    }
   ],
   "source": [
    "import torch\n",
    "import gymnasium as gym\n",
    "\n",
    "def test_agent(env, policy_net, num_episodes=10, render=True):\n",
    "    for episode in range(num_episodes):\n",
    "        state, _ = env.reset()\n",
    "        total_reward = 0\n",
    "        done = False\n",
    "\n",
    "        while not done:\n",
    "            if render:\n",
    "                env.render()\n",
    "\n",
    "            # Convert state to tensor and get action from policy network\n",
    "            state_tensor = torch.tensor(state, dtype=torch.float32).unsqueeze(0).to(device)\n",
    "            with torch.no_grad():\n",
    "                action = policy_net(state_tensor).argmax(dim=1).item()  # Choose action with highest Q-value\n",
    "\n",
    "            # Take the action in the environment\n",
    "            next_state, reward, done, _, _ = env.step(action)\n",
    "            total_reward += reward\n",
    "            state = next_state\n",
    "\n",
    "        print(f\"Episode {episode + 1}: Total Reward = {total_reward}\")\n",
    "\n",
    "    env.close()\n",
    "    \n",
    "env = gym.make('CartPole-v1')\n",
    "\n",
    "observations = env.observation_space.shape[0]\n",
    "actions = env.action_space.n\n",
    "\n",
    "# Call the test function\n",
    "policy_net = DQN(observations, actions).to(device)\n",
    "policy_net.load_state_dict(torch.load('./best_network.pth'))\n",
    "policy_net.eval()\n",
    "\n",
    "test_agent(env, policy_net, num_episodes=10)\n"
   ]
  }
 ],
 "metadata": {
  "kernelspec": {
   "display_name": "Python (venv)",
   "language": "python",
   "name": "venv"
  },
  "language_info": {
   "codemirror_mode": {
    "name": "ipython",
    "version": 3
   },
   "file_extension": ".py",
   "mimetype": "text/x-python",
   "name": "python",
   "nbconvert_exporter": "python",
   "pygments_lexer": "ipython3",
   "version": "3.10.8"
  }
 },
 "nbformat": 4,
 "nbformat_minor": 5
}
