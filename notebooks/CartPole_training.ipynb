{
 "cells": [
  {
   "cell_type": "markdown",
   "id": "5f42a073",
   "metadata": {},
   "source": [
    "<div align=\"center\">\n",
    "    <h1><b>Εργασία Ενισχυτικής Μηχανικής Μάθησης</b></h1>\n",
    "</div>"
   ]
  },
  {
   "cell_type": "markdown",
   "id": "3eb7f92c",
   "metadata": {},
   "source": [
    "## **Εισαγωγικά**\n",
    "Αυτό το notebook αποτελεί κομμάτι μιας εργασίας στο μάθημα **'Ενισχυτική Μηχανική Μάθηση & Στοχαστικά Παίγνια'** του τμήματος **[Πληροφορικής και Τηλεπικοινωνιών](https://www.di.uoa.gr/)** του **Ε.Κ.Π.Α.**"
   ]
  },
  {
   "cell_type": "markdown",
   "id": "08e8e208-1449-4fd6-872c-a0415fb161e8",
   "metadata": {},
   "source": [
    "### **Σκοπός**\n",
    "Σκοπός της εργασίας είναι **πειραματιστούμε** με διάφορους **αλγορίθμους μηχανικής μάθησης**, έτσι ώστε να εκπαιδεύσουμε ένα μοντέλο πάνω σε ένα συγκεκριμένο **περιβάλλον** του **[Open-AI Gym ή Gymnasium](https://www.gymlibrary.dev/index.html)**"
   ]
  },
  {
   "cell_type": "markdown",
   "id": "fc50fe1c-af3a-440b-9570-e43f14bbc431",
   "metadata": {},
   "source": [
    "### **Μέλη Εργασίας**\n",
    "Τα μέλη που αποτελούν αυτήν την εργασία είναι τα ακόλουθα:\n",
    "| Όνομα | Επώνυμο | Α.Μ. | Email\n",
    "| :---: | :---: | :---: | :---: |\n",
    "| Αντώνης | Ζήκας | 1115202100038 | sdi2100038@di.uoa.gr |\n",
    "| Παναγιώτης | Παπαποστόλου | 1115202100142 | sdi2100142@di.uoa.gr |"
   ]
  },
  {
   "cell_type": "markdown",
   "id": "8dd947b7",
   "metadata": {},
   "source": [
    "## **Επιλογή και Ανάλυση Περιβάλλοντος**\n",
    "Σε αυτήν την εργασία επιλέξαμε να ασχοληθούμε με το περιβάλλον **[CartPole-v1](https://www.gymlibrary.dev/environments/classic_control/cart_pole/)** το οποίο ανήκει στην κατηγορία **[Clasic Control](https://www.gymlibrary.dev/environments/classic_control/)**. \n",
    "\n",
    "<div align=\"center\">\n",
    "<img src=\"../assets/imgs/cart-pole-diagram.png\" width=\"500px\">    \n",
    "</div>\n",
    "\n",
    "Ας αναλύσουμε αυτό το περιβάλλον."
   ]
  },
  {
   "cell_type": "markdown",
   "id": "cf64247f",
   "metadata": {},
   "source": [
    "### **Action Space**:\n",
    "Για το συγκεκριμένο περιβάλλον υπάρχουν **δύο ενέργειες** (actions) που μπορούν να γίνουν. Συγκεκριμένα το **καροτσάκι** (cart) μπορεί να μετακινηθεί είτε **αριστερά** είτε **δεξιά**. Οι ενέργειες αυτές αναπαρίστανται με **0** και **1** αντίστοιχα και περιγράφονται στον παρακάτω πίνακα:\n",
    "\n",
    "| Number | Action |\n",
    "| :---: | :---: |\n",
    "| 0 | Μετακίνηση προς τα αριστερά |\n",
    "| 1 | Μετακίνηση προς τα δεξιά |\n",
    "\n",
    "Επομένως το **action** του συγκεκριμένου περιβάλλοντος είναι ένα `ndarray` διαστάσεων `(1,)` και μπορεί να πάρει δύο τιμές `{1, 0}`."
   ]
  },
  {
   "cell_type": "markdown",
   "id": "9ff4bdd3",
   "metadata": {},
   "source": [
    "### **Observation Space**:\n",
    "Το **observation space** για το συγκεκριμένο περιβάλλον είναι μία συλλογή από **4** τιμές.\n",
    "1. Την **θέση** του καροτσιού **(Cart Position)**\n",
    "2. Την **ταχύτητα** του καροτσιού **(Cart Velocity)**\n",
    "3. Την **γωνία** που σχηματίζει το κοντάρι με τον κάθετο άξονα **(Pole Angle)**\n",
    "4. την **ταχύτητα** του κονταριού καθώς πέφτει **(Pole Angular Velocity)**\n",
    "\n",
    "Αυτές οι τιμές αποθηκέυονται μέσα σε ένα `ndarray` διαστάσεων `(4,)` και κάθε τιμή έχει ορισμένα συγκεκριμένα όρια τα οποία περιγράφονται παρακάτω:\n",
    "\n",
    "| Array index | Observation | Min Value | Max Value |\n",
    "| :---: | :---: | :---: | :---: |\n",
    "| 0 | Cart Position | $-4.8$ | $4.8$ |\n",
    "| 1 | Cart Velocity | $-\\infty$ | $+\\infty$ |\n",
    "| 2 | Pole Angle | ~ $0.418$ rad (-$24^{\\circ}$) | ~ $0.418$ rad ($24^{\\circ}$) |\n",
    "| 3 | Pole Angular Velocity | $-\\infty$ | $+\\infty$ |\n"
   ]
  },
  {
   "cell_type": "markdown",
   "id": "2c5e12a6",
   "metadata": {},
   "source": [
    "### **Reward**:\n",
    "Για κάθε βήμα στην εκπαίδευση του μοντέλου η **αμοιβή** (reward) που λαμβάνει ο επιλεγμένος **πράκτορας** (agent) είναι `+1` συμπεριλαμβανομένου και του **βήματος τερματισμού**. Το **κατώφλι** (threshold) των αμοιβών στο συγκεκριμένο περιβάλλον είναι **475**."
   ]
  },
  {
   "cell_type": "markdown",
   "id": "d93fb0f7",
   "metadata": {},
   "source": [
    "## **Φόρτωση Περιβάλλοντος στην Python**"
   ]
  },
  {
   "cell_type": "code",
   "execution_count": 8,
   "id": "25fef1eb",
   "metadata": {},
   "outputs": [
    {
     "name": "stdout",
     "output_type": "stream",
     "text": [
      "Observations: 4, Actions: 2\n"
     ]
    }
   ],
   "source": [
    "import gymnasium as gym\n",
    "\n",
    "env = gym.make('CartPole-v1')\n",
    "observations = env.observation_space.shape[0]\n",
    "actions = env.action_space.n\n",
    "\n",
    "print(f\"Observations: {observations}, Actions: {actions}\")"
   ]
  },
  {
   "cell_type": "markdown",
   "id": "54cb9caf-f7bb-405c-810a-4d2b18a780d7",
   "metadata": {},
   "source": [
    "Όπως παρατηρούμε από την παραπάνω εκτέλεση του κώδικα, τα **observations** και τα **actions** είναι πράγματι **4** και **2** αντίστοιχα. Ας επιχειρήσουμε να τρέξουμε αυτό το περιβάλλον **χωρίς** κάποιο εκπαιδευμένο μοντέλο και ας παρατηρήσουμε τα αποτελέσματα."
   ]
  },
  {
   "cell_type": "code",
   "execution_count": 22,
   "id": "973c0961-8cfa-4223-9207-e780d12bb616",
   "metadata": {},
   "outputs": [],
   "source": [
    "epochs = 100\n",
    "epochs_scores = []\n",
    "\n",
    "for epoch in range(1, epochs+1):\n",
    "    env.reset()\n",
    "    done = False\n",
    "    score = 0\n",
    "    while not done:\n",
    "        action = env.action_space.sample() # Chose a random action from 0 and 1\n",
    "        observation, reward, terminated, truncated, _ = env.step(action)\n",
    "        score += reward\n",
    "        if terminated or truncated:\n",
    "            observation, _ = env.reset()\n",
    "            done = True\n",
    "    \n",
    "    epochs_scores.append(score)\n",
    "    \n",
    "env.close()"
   ]
  },
  {
   "cell_type": "markdown",
   "id": "f0096958-1a9b-485f-8345-bd951783b442",
   "metadata": {},
   "source": [
    "Ας οπτικοποιήσουμε το συνολικό **score** που έπιασε το περιβάλλον μας για κάθε **εποχή** (epoch)."
   ]
  },
  {
   "cell_type": "code",
   "execution_count": 32,
   "id": "b4bec7df-02fc-4816-bbc1-3cc29f801283",
   "metadata": {},
   "outputs": [
    {
     "data": {
      "text/plain": [
       "<Figure size 640x480 with 0 Axes>"
      ]
     },
     "metadata": {},
     "output_type": "display_data"
    },
    {
     "data": {
      "image/png": "[encoded data removed]",
      "text/plain": [
       "<Figure size 1300x500 with 1 Axes>"
      ]
     },
     "metadata": {},
     "output_type": "display_data"
    }
   ],
   "source": [
    "from matplotlib import pyplot as plt\n",
    "\n",
    "plt.figure()\n",
    "plt.figure(figsize=(13, 5))\n",
    "plt.plot(epochs_scores, color='#37A2FF')\n",
    "plt.ylim(0, 475)\n",
    "plt.title(\"Environement Random Action testing: Total Score per Epoch\")\n",
    "plt.xlabel(\"Epochs\")\n",
    "plt.ylabel(\"Score\")\n",
    "plt.grid(color='#DADADA')\n",
    "plt.show()"
   ]
  },
  {
   "cell_type": "markdown",
   "id": "614d0cb4-c889-408b-b40b-2c351ecbfc13",
   "metadata": {},
   "source": [
    "Από το παραπάνω διάγραμμα παρατηρούμε πως το συνολικό **score** που πιάνει το περιβάλλον είναι πολύ χαμηλό. Στόχος μας λοιπόν είναι να **εκπαιδεύσουμε** ένα μοντέλο, έτσι ώστε να καταφέρουμε να αυξήσουμε το **score** μέχρι και το αντίστοιχο **threashold** του περιβάλλοντος, το οποίο είναι **475**."
   ]
  },
  {
   "cell_type": "markdown",
   "id": "a2f32d91-e920-4463-b9c5-691dffa27607",
   "metadata": {},
   "source": [
    "## **Υλοποίηση του αλγορίθμου DQN (Deep Q-Network)**\n",
    "Θα ξεκινήσουμε υλοποιώντας αλγόριθμο **[DQN](https://medium.com/@samina.amin/deep-q-learning-dqn-71c109586bae)** ο οποίος θα χρησιμοποιηθεί για την εκπαίδευση του μοντέλου μας. Ο αλγόριθμος αυτός απαιτεί τη χρήση ενός **νευρωνικού δικτύου** (neural network) όπου για την κατασκευή του θα χρησιμοποιήσουμε το πακέτο **[PyTorch](https://pytorch.org/)**.\n",
    "\n",
    "<div align=\"center\">\n",
    "    <img src=\"https://miro.medium.com/v2/resize:fit:2400/format:webp/1*aqNgmfyBIStLrf9k7d9cng.jpeg\" width=\"500px\">\n",
    "</div>"
   ]
  },
  {
   "cell_type": "code",
   "execution_count": null,
   "id": "2b62b09a-2de3-41d8-a7c0-22ae0da74f05",
   "metadata": {},
   "outputs": [],
   "source": []
  }
 ],
 "metadata": {
  "kernelspec": {
   "display_name": "Python 3 (ipykernel)",
   "language": "python",
   "name": "python3"
  },
  "language_info": {
   "codemirror_mode": {
    "name": "ipython",
    "version": 3
   },
   "file_extension": ".py",
   "mimetype": "text/x-python",
   "name": "python",
   "nbconvert_exporter": "python",
   "pygments_lexer": "ipython3",
   "version": "3.10.8"
  }
 },
 "nbformat": 4,
 "nbformat_minor": 5
}
